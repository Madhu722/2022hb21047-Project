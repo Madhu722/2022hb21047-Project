{
 "cells": [
  {
   "cell_type": "markdown",
   "id": "f78dfc21",
   "metadata": {},
   "source": [
    "## S1-24_MBAZG622T - Project\n",
    "\n",
    "## Integrating Supervised and Unsupervised Machine learning Algorithms for Credit Risk Assessment\n",
    "\n",
    "### 2022hb21047 - Madhumithaa N\n",
    "\n"
   ]
  },
  {
   "cell_type": "code",
   "execution_count": 1,
   "id": "fe737f21",
   "metadata": {},
   "outputs": [],
   "source": [
    "# Import necessary libraries\n",
    "import pandas as pd\n",
    "import numpy as np\n",
    "from sklearn.model_selection import train_test_split\n",
    "from sklearn.preprocessing import StandardScaler\n",
    "from sklearn.linear_model import LogisticRegression\n",
    "from sklearn.svm import SVC\n",
    "from sklearn.ensemble import RandomForestClassifier\n",
    "from xgboost import XGBClassifier\n",
    "from sklearn.metrics import accuracy_score\n",
    "from sklearn.metrics import classification_report, roc_auc_score\n",
    "from sklearn.cluster import KMeans\n",
    "from imblearn.over_sampling import SMOTE\n",
    "import seaborn as sns\n",
    "import matplotlib.pyplot as plt\n",
    "\n",
    "import warnings\n",
    "warnings.filterwarnings(\"ignore\")"
   ]
  },
  {
   "cell_type": "code",
   "execution_count": 2,
   "id": "2e29cc73",
   "metadata": {},
   "outputs": [
    {
     "data": {
      "text/html": [
       "<div>\n",
       "<style scoped>\n",
       "    .dataframe tbody tr th:only-of-type {\n",
       "        vertical-align: middle;\n",
       "    }\n",
       "\n",
       "    .dataframe tbody tr th {\n",
       "        vertical-align: top;\n",
       "    }\n",
       "\n",
       "    .dataframe thead th {\n",
       "        text-align: right;\n",
       "    }\n",
       "</style>\n",
       "<table border=\"1\" class=\"dataframe\">\n",
       "  <thead>\n",
       "    <tr style=\"text-align: right;\">\n",
       "      <th></th>\n",
       "      <th>person_age</th>\n",
       "      <th>person_income</th>\n",
       "      <th>person_home_ownership</th>\n",
       "      <th>person_emp_length</th>\n",
       "      <th>loan_intent</th>\n",
       "      <th>loan_grade</th>\n",
       "      <th>loan_amnt</th>\n",
       "      <th>loan_int_rate</th>\n",
       "      <th>loan_status</th>\n",
       "      <th>loan_percent_income</th>\n",
       "      <th>cb_person_default_on_file</th>\n",
       "      <th>cb_person_cred_hist_length</th>\n",
       "    </tr>\n",
       "  </thead>\n",
       "  <tbody>\n",
       "    <tr>\n",
       "      <th>0</th>\n",
       "      <td>22</td>\n",
       "      <td>59000</td>\n",
       "      <td>RENT</td>\n",
       "      <td>123.0</td>\n",
       "      <td>PERSONAL</td>\n",
       "      <td>D</td>\n",
       "      <td>35000</td>\n",
       "      <td>16.02</td>\n",
       "      <td>1</td>\n",
       "      <td>0.59</td>\n",
       "      <td>Y</td>\n",
       "      <td>3</td>\n",
       "    </tr>\n",
       "    <tr>\n",
       "      <th>1</th>\n",
       "      <td>21</td>\n",
       "      <td>9600</td>\n",
       "      <td>OWN</td>\n",
       "      <td>5.0</td>\n",
       "      <td>EDUCATION</td>\n",
       "      <td>B</td>\n",
       "      <td>1000</td>\n",
       "      <td>11.14</td>\n",
       "      <td>0</td>\n",
       "      <td>0.10</td>\n",
       "      <td>N</td>\n",
       "      <td>2</td>\n",
       "    </tr>\n",
       "    <tr>\n",
       "      <th>2</th>\n",
       "      <td>25</td>\n",
       "      <td>9600</td>\n",
       "      <td>MORTGAGE</td>\n",
       "      <td>1.0</td>\n",
       "      <td>MEDICAL</td>\n",
       "      <td>C</td>\n",
       "      <td>5500</td>\n",
       "      <td>12.87</td>\n",
       "      <td>1</td>\n",
       "      <td>0.57</td>\n",
       "      <td>N</td>\n",
       "      <td>3</td>\n",
       "    </tr>\n",
       "    <tr>\n",
       "      <th>3</th>\n",
       "      <td>23</td>\n",
       "      <td>65500</td>\n",
       "      <td>RENT</td>\n",
       "      <td>4.0</td>\n",
       "      <td>MEDICAL</td>\n",
       "      <td>C</td>\n",
       "      <td>35000</td>\n",
       "      <td>15.23</td>\n",
       "      <td>1</td>\n",
       "      <td>0.53</td>\n",
       "      <td>N</td>\n",
       "      <td>2</td>\n",
       "    </tr>\n",
       "    <tr>\n",
       "      <th>4</th>\n",
       "      <td>24</td>\n",
       "      <td>54400</td>\n",
       "      <td>RENT</td>\n",
       "      <td>8.0</td>\n",
       "      <td>MEDICAL</td>\n",
       "      <td>C</td>\n",
       "      <td>35000</td>\n",
       "      <td>14.27</td>\n",
       "      <td>1</td>\n",
       "      <td>0.55</td>\n",
       "      <td>Y</td>\n",
       "      <td>4</td>\n",
       "    </tr>\n",
       "  </tbody>\n",
       "</table>\n",
       "</div>"
      ],
      "text/plain": [
       "   person_age  person_income person_home_ownership  person_emp_length  \\\n",
       "0          22          59000                  RENT              123.0   \n",
       "1          21           9600                   OWN                5.0   \n",
       "2          25           9600              MORTGAGE                1.0   \n",
       "3          23          65500                  RENT                4.0   \n",
       "4          24          54400                  RENT                8.0   \n",
       "\n",
       "  loan_intent loan_grade  loan_amnt  loan_int_rate  loan_status  \\\n",
       "0    PERSONAL          D      35000          16.02            1   \n",
       "1   EDUCATION          B       1000          11.14            0   \n",
       "2     MEDICAL          C       5500          12.87            1   \n",
       "3     MEDICAL          C      35000          15.23            1   \n",
       "4     MEDICAL          C      35000          14.27            1   \n",
       "\n",
       "   loan_percent_income cb_person_default_on_file  cb_person_cred_hist_length  \n",
       "0                 0.59                         Y                           3  \n",
       "1                 0.10                         N                           2  \n",
       "2                 0.57                         N                           3  \n",
       "3                 0.53                         N                           2  \n",
       "4                 0.55                         Y                           4  "
      ]
     },
     "execution_count": 2,
     "metadata": {},
     "output_type": "execute_result"
    }
   ],
   "source": [
    "# Load dataset\n",
    "data = pd.read_csv(\"C:\\\\Users\\\\shaiv\\\\Downloads\\\\Credit_risk_dataset\\\\credit_risk_dataset.csv\")\n",
    "\n",
    "data.head()"
   ]
  },
  {
   "cell_type": "code",
   "execution_count": 3,
   "id": "52e538be",
   "metadata": {},
   "outputs": [
    {
     "data": {
      "text/plain": [
       "(32581, 12)"
      ]
     },
     "execution_count": 3,
     "metadata": {},
     "output_type": "execute_result"
    }
   ],
   "source": [
    "data.shape"
   ]
  },
  {
   "cell_type": "code",
   "execution_count": 4,
   "id": "dd99dc10",
   "metadata": {},
   "outputs": [
    {
     "data": {
      "text/plain": [
       "person_age                       0\n",
       "person_income                    0\n",
       "person_home_ownership            0\n",
       "person_emp_length              895\n",
       "loan_intent                      0\n",
       "loan_grade                       0\n",
       "loan_amnt                        0\n",
       "loan_int_rate                 3116\n",
       "loan_status                      0\n",
       "loan_percent_income              0\n",
       "cb_person_default_on_file        0\n",
       "cb_person_cred_hist_length       0\n",
       "dtype: int64"
      ]
     },
     "execution_count": 4,
     "metadata": {},
     "output_type": "execute_result"
    }
   ],
   "source": [
    "data.isna().sum()"
   ]
  },
  {
   "cell_type": "code",
   "execution_count": 5,
   "id": "564c51c7",
   "metadata": {},
   "outputs": [],
   "source": [
    "# Exploratory Data Analysis"
   ]
  },
  {
   "cell_type": "code",
   "execution_count": 6,
   "id": "8dac7927",
   "metadata": {},
   "outputs": [],
   "source": [
    "# Setting up the visualization style\n",
    "sns.set(style=\"whitegrid\")"
   ]
  },
  {
   "cell_type": "code",
   "execution_count": 7,
   "id": "b8f47598",
   "metadata": {},
   "outputs": [
    {
     "data": {
      "image/png": "[encoded data removed]",
      "text/plain": [
       "<Figure size 576x432 with 1 Axes>"
      ]
     },
     "metadata": {},
     "output_type": "display_data"
    }
   ],
   "source": [
    "# Bar plot for Home Ownership counts\n",
    "plt.figure(figsize=(8, 6))\n",
    "sns.countplot(data=data, x=\"person_home_ownership\", palette=\"pastel\")\n",
    "plt.title(\"Counts of Home Ownership\")\n",
    "plt.ylabel(\"Count\")\n",
    "plt.xlabel(\"Home Ownership\")\n",
    "plt.show()"
   ]
  },
  {
   "cell_type": "code",
   "execution_count": 8,
   "id": "d5106504",
   "metadata": {},
   "outputs": [
    {
     "data": {
      "image/png": "[encoded data removed]",
      "text/plain": [
       "<Figure size 1080x432 with 1 Axes>"
      ]
     },
     "metadata": {},
     "output_type": "display_data"
    }
   ],
   "source": [
    "# Bar plot for Loan Intent counts\n",
    "plt.figure(figsize=(15, 6))\n",
    "sns.countplot(data=data, x=\"loan_intent\", palette=\"muted\")\n",
    "plt.title(\"Counts of Loan Intent\")\n",
    "plt.ylabel(\"Count\")\n",
    "plt.xlabel(\"Loan Intent\")\n",
    "plt.show()"
   ]
  },
  {
   "cell_type": "code",
   "execution_count": 9,
   "id": "2a2a6b64",
   "metadata": {},
   "outputs": [
    {
     "data": {
      "image/png": "[encoded data removed]",
      "text/plain": [
       "<Figure size 576x432 with 1 Axes>"
      ]
     },
     "metadata": {},
     "output_type": "display_data"
    }
   ],
   "source": [
    "# Bar plot for Loan Grade counts\n",
    "plt.figure(figsize=(8, 6))\n",
    "sns.countplot(data=data, x=\"loan_grade\", palette=\"coolwarm\")\n",
    "plt.title(\"Counts of Loan Grades\")\n",
    "plt.ylabel(\"Count\")\n",
    "plt.xlabel(\"Loan Grade\")\n",
    "plt.show()"
   ]
  },
  {
   "cell_type": "code",
   "execution_count": 10,
   "id": "612f5192",
   "metadata": {},
   "outputs": [
    {
     "data": {
      "image/png": "[encoded data removed]",
      "text/plain": [
       "<Figure size 576x432 with 1 Axes>"
      ]
     },
     "metadata": {},
     "output_type": "display_data"
    }
   ],
   "source": [
    "# Bar plot for Default Status counts\n",
    "plt.figure(figsize=(8, 6))\n",
    "sns.countplot(data=data, x=\"cb_person_default_on_file\", palette=\"dark\")\n",
    "plt.title(\"Counts of Default Status\")\n",
    "plt.ylabel(\"Count\")\n",
    "plt.xlabel(\"Default Status (Y/N)\")\n",
    "plt.show()"
   ]
  },
  {
   "cell_type": "code",
   "execution_count": 11,
   "id": "453fc941",
   "metadata": {},
   "outputs": [],
   "source": [
    "# 1. Preprocessing\n",
    "\n",
    "# A. Handling Missing Values\n",
    "data['person_emp_length'].fillna(data['person_emp_length'].median(), inplace=True)\n",
    "data['loan_int_rate'].fillna(data['loan_int_rate'].mean(), inplace=True)\n"
   ]
  },
  {
   "cell_type": "code",
   "execution_count": 12,
   "id": "5cad3797",
   "metadata": {},
   "outputs": [],
   "source": [
    "# B. Encoding Categorical Features\n",
    "data = pd.get_dummies(data, columns=['person_home_ownership', 'loan_intent', 'loan_grade'], drop_first=True)"
   ]
  },
  {
   "cell_type": "code",
   "execution_count": 13,
   "id": "72fae9a0",
   "metadata": {},
   "outputs": [],
   "source": [
    "# C. Feature Scaling\n",
    "scaler = StandardScaler()\n",
    "numeric_cols = ['person_age', 'person_income', 'loan_amnt', 'loan_int_rate', 'cb_person_cred_hist_length']\n",
    "data[numeric_cols] = scaler.fit_transform(data[numeric_cols])"
   ]
  },
  {
   "cell_type": "code",
   "execution_count": 14,
   "id": "5b27780e",
   "metadata": {},
   "outputs": [
    {
     "name": "stdout",
     "output_type": "stream",
     "text": [
      "person_age                     float64\n",
      "person_income                  float64\n",
      "person_emp_length              float64\n",
      "loan_amnt                      float64\n",
      "loan_int_rate                  float64\n",
      "loan_status                      int64\n",
      "loan_percent_income            float64\n",
      "cb_person_default_on_file       object\n",
      "cb_person_cred_hist_length     float64\n",
      "person_home_ownership_OTHER      uint8\n",
      "person_home_ownership_OWN        uint8\n",
      "person_home_ownership_RENT       uint8\n",
      "loan_intent_EDUCATION            uint8\n",
      "loan_intent_HOMEIMPROVEMENT      uint8\n",
      "loan_intent_MEDICAL              uint8\n",
      "loan_intent_PERSONAL             uint8\n",
      "loan_intent_VENTURE              uint8\n",
      "loan_grade_B                     uint8\n",
      "loan_grade_C                     uint8\n",
      "loan_grade_D                     uint8\n",
      "loan_grade_E                     uint8\n",
      "loan_grade_F                     uint8\n",
      "loan_grade_G                     uint8\n",
      "dtype: object\n"
     ]
    }
   ],
   "source": [
    "print(data.dtypes)"
   ]
  },
  {
   "cell_type": "code",
   "execution_count": 15,
   "id": "b89cce2a",
   "metadata": {},
   "outputs": [
    {
     "name": "stdout",
     "output_type": "stream",
     "text": [
      "0    26836\n",
      "1     5745\n",
      "Name: cb_person_default_on_file, dtype: int64\n"
     ]
    }
   ],
   "source": [
    "# Convert 'cb_person_default_on_file' from 'Y'/'N' to 1/0\n",
    "data['cb_person_default_on_file'] = data['cb_person_default_on_file'].map({'Y': 1, 'N': 0})\n",
    "\n",
    "# Verify the conversion\n",
    "print(data['cb_person_default_on_file'].value_counts())"
   ]
  },
  {
   "cell_type": "code",
   "execution_count": 16,
   "id": "574389be",
   "metadata": {},
   "outputs": [],
   "source": [
    "# D. Handle Imbalanced Data\n",
    "# Define target and features\n",
    "X = data.drop('loan_status', axis=1)\n",
    "y = data['loan_status']"
   ]
  },
  {
   "cell_type": "code",
   "execution_count": 17,
   "id": "e22dd07d",
   "metadata": {},
   "outputs": [],
   "source": [
    "# Use SMOTE for oversampling\n",
    "smote = SMOTE(random_state=42)\n",
    "X_resampled, y_resampled = smote.fit_resample(X, y)"
   ]
  },
  {
   "cell_type": "code",
   "execution_count": 18,
   "id": "7fcf3844",
   "metadata": {},
   "outputs": [
    {
     "name": "stdout",
     "output_type": "stream",
     "text": [
      "Logistic Regression - Classification Report\n",
      "              precision    recall  f1-score   support\n",
      "\n",
      "           0       0.80      0.83      0.81      7659\n",
      "           1       0.82      0.79      0.81      7625\n",
      "\n",
      "    accuracy                           0.81     15284\n",
      "   macro avg       0.81      0.81      0.81     15284\n",
      "weighted avg       0.81      0.81      0.81     15284\n",
      "\n",
      "Logistic Regression AUC-ROC: 0.8894452256961167\n"
     ]
    }
   ],
   "source": [
    "# 2. Supervised Learning (Classification)\n",
    "\n",
    "# A. Logistic Regression (Baseline)\n",
    "X_train, X_test, y_train, y_test = train_test_split(X_resampled, y_resampled, test_size=0.3, random_state=42)\n",
    "\n",
    "log_model = LogisticRegression(max_iter=1000)\n",
    "log_model.fit(X_train, y_train)\n",
    "y_pred_log = log_model.predict(X_test)\n",
    "print(\"Logistic Regression - Classification Report\")\n",
    "print(classification_report(y_test, y_pred_log))\n",
    "print(\"Logistic Regression AUC-ROC:\", roc_auc_score(y_test, log_model.predict_proba(X_test)[:, 1]))"
   ]
  },
  {
   "cell_type": "code",
   "execution_count": 19,
   "id": "1ad08fe5",
   "metadata": {},
   "outputs": [
    {
     "name": "stdout",
     "output_type": "stream",
     "text": [
      "Support Vector Machine - Classification Report\n",
      "              precision    recall  f1-score   support\n",
      "\n",
      "           0       0.83      0.85      0.84      7659\n",
      "           1       0.85      0.83      0.84      7625\n",
      "\n",
      "    accuracy                           0.84     15284\n",
      "   macro avg       0.84      0.84      0.84     15284\n",
      "weighted avg       0.84      0.84      0.84     15284\n",
      "\n",
      "Support Vector Machine AUC-ROC: 0.9168914916341858\n"
     ]
    }
   ],
   "source": [
    "# B. Support Vector Machine\n",
    "svm_model = SVC(random_state=42, probability=True)\n",
    "svm_model.fit(X_train, y_train)\n",
    "y_pred_svm = svm_model.predict(X_test)\n",
    "print(\"Support Vector Machine - Classification Report\")\n",
    "print(classification_report(y_test, y_pred_svm))\n",
    "print(\"Support Vector Machine AUC-ROC:\", roc_auc_score(y_test, svm_model.predict_proba(X_test)[:, 1]))"
   ]
  },
  {
   "cell_type": "code",
   "execution_count": 20,
   "id": "6688e5cf",
   "metadata": {},
   "outputs": [
    {
     "name": "stdout",
     "output_type": "stream",
     "text": [
      "Random Forest - Classification Report\n",
      "              precision    recall  f1-score   support\n",
      "\n",
      "           0       0.83      0.85      0.84      7659\n",
      "           1       0.85      0.83      0.84      7625\n",
      "\n",
      "    accuracy                           0.84     15284\n",
      "   macro avg       0.84      0.84      0.84     15284\n",
      "weighted avg       0.84      0.84      0.84     15284\n",
      "\n",
      "Random Forest AUC-ROC: 0.982325963882628\n"
     ]
    }
   ],
   "source": [
    "# B. Random Forest\n",
    "rf_model = RandomForestClassifier(random_state=42)\n",
    "rf_model.fit(X_train, y_train)\n",
    "y_pred_rf = rf_model.predict(X_test)\n",
    "print(\"Random Forest - Classification Report\")\n",
    "print(classification_report(y_test, y_pred_svm))\n",
    "print(\"Random Forest AUC-ROC:\", roc_auc_score(y_test, rf_model.predict_proba(X_test)[:, 1]))"
   ]
  },
  {
   "cell_type": "code",
   "execution_count": 21,
   "id": "177af1d1",
   "metadata": {},
   "outputs": [
    {
     "name": "stdout",
     "output_type": "stream",
     "text": [
      "XGBoost - Classification Report\n",
      "              precision    recall  f1-score   support\n",
      "\n",
      "           0       0.92      0.98      0.95      7659\n",
      "           1       0.98      0.92      0.95      7625\n",
      "\n",
      "    accuracy                           0.95     15284\n",
      "   macro avg       0.95      0.95      0.95     15284\n",
      "weighted avg       0.95      0.95      0.95     15284\n",
      "\n",
      "XGBoost AUC-ROC: 0.9840582021793711\n"
     ]
    }
   ],
   "source": [
    "# C. XGBoost Classifier\n",
    "xgb_model = XGBClassifier(random_state=42)\n",
    "xgb_model.fit(X_train, y_train)\n",
    "y_pred_xgb = xgb_model.predict(X_test)\n",
    "print(\"XGBoost - Classification Report\")\n",
    "print(classification_report(y_test, y_pred_xgb))\n",
    "print(\"XGBoost AUC-ROC:\", roc_auc_score(y_test, xgb_model.predict_proba(X_test)[:, 1]))"
   ]
  },
  {
   "cell_type": "code",
   "execution_count": 18,
   "id": "85dcea8f",
   "metadata": {},
   "outputs": [
    {
     "data": {
      "image/png": "[encoded data removed]",
      "text/plain": [
       "<Figure size 576x360 with 1 Axes>"
      ]
     },
     "metadata": {
      "needs_background": "light"
     },
     "output_type": "display_data"
    }
   ],
   "source": [
    "import matplotlib.pyplot as plt\n",
    "from sklearn.cluster import KMeans\n",
    "\n",
    "# Finding the optimal number of clusters using the Elbow Method\n",
    "wcss = []\n",
    "for i in range(1, 11):\n",
    "    kmeans = KMeans(n_clusters=i, random_state=42)\n",
    "    kmeans.fit(X_resampled)\n",
    "    wcss.append(kmeans.inertia_)\n",
    "\n",
    "# Plot the Elbow Method graph\n",
    "plt.figure(figsize=(8, 5))\n",
    "plt.plot(range(1, 11), wcss, marker='o')\n",
    "plt.title('Elbow Method')\n",
    "plt.xlabel('Number of Clusters')\n",
    "plt.ylabel('WCSS')\n",
    "plt.show()"
   ]
  },
  {
   "cell_type": "code",
   "execution_count": 22,
   "id": "b77efd08",
   "metadata": {},
   "outputs": [],
   "source": [
    "# 3. Unsupervised Learning (Clustering and Anomaly Detection)\n",
    "\n",
    "# A. K-Means Clustering\n",
    "#clustering_features = data[['person_age', 'person_income', 'loan_amnt', 'loan_int_rate', 'cb_person_cred_hist_length']]\n",
    "clustering_features = data.drop('loan_status', axis=1)\n",
    "kmeans = KMeans(n_clusters=3, random_state=42)\n",
    "clusters = kmeans.fit_predict(clustering_features)"
   ]
  },
  {
   "cell_type": "code",
   "execution_count": 23,
   "id": "88091bff",
   "metadata": {},
   "outputs": [],
   "source": [
    "# Add cluster labels to the dataset\n",
    "\n",
    "cluster_data=data\n",
    "cluster_data['risk_cluster'] = clusters\n",
    "cluster_data['risk_rating'] = clusters"
   ]
  },
  {
   "cell_type": "code",
   "execution_count": 24,
   "id": "238d5041",
   "metadata": {},
   "outputs": [
    {
     "data": {
      "text/plain": [
       "0    14591\n",
       "1    14341\n",
       "2     3649\n",
       "Name: risk_rating, dtype: int64"
      ]
     },
     "execution_count": 24,
     "metadata": {},
     "output_type": "execute_result"
    }
   ],
   "source": [
    "cluster_data['risk_rating'].value_counts()"
   ]
  },
  {
   "cell_type": "code",
   "execution_count": 25,
   "id": "cbedd6a0",
   "metadata": {},
   "outputs": [],
   "source": [
    "# Define target and features\n",
    "X = cluster_data.drop('loan_status', axis=1)\n",
    "y = cluster_data['loan_status']"
   ]
  },
  {
   "cell_type": "code",
   "execution_count": 30,
   "id": "fd667591",
   "metadata": {
    "scrolled": true
   },
   "outputs": [
    {
     "name": "stdout",
     "output_type": "stream",
     "text": [
      "   person_age  person_income  person_emp_length  loan_amnt  loan_int_rate  \\\n",
      "0   -0.903374      -0.114143              123.0   4.019404       1.625251   \n",
      "1   -1.060904      -0.911147                5.0  -1.358650       0.041636   \n",
      "2   -0.430783      -0.911147                1.0  -0.646849       0.603041   \n",
      "3   -0.745843      -0.009274                4.0   4.019404       1.368887   \n",
      "4   -0.588313      -0.188358                8.0   4.019404       1.057357   \n",
      "\n",
      "   loan_status  loan_percent_income  cb_person_default_on_file  \\\n",
      "0            1                 0.59                          1   \n",
      "1            0                 0.10                          0   \n",
      "2            1                 0.57                          0   \n",
      "3            1                 0.53                          0   \n",
      "4            1                 0.55                          1   \n",
      "\n",
      "   cb_person_cred_hist_length  person_home_ownership_OTHER  ...  \\\n",
      "0                   -0.691554                            0  ...   \n",
      "1                   -0.938167                            0  ...   \n",
      "2                   -0.691554                            0  ...   \n",
      "3                   -0.938167                            0  ...   \n",
      "4                   -0.444942                            0  ...   \n",
      "\n",
      "   loan_intent_PERSONAL  loan_intent_VENTURE  loan_grade_B  loan_grade_C  \\\n",
      "0                     1                    0             0             0   \n",
      "1                     0                    0             1             0   \n",
      "2                     0                    0             0             1   \n",
      "3                     0                    0             0             1   \n",
      "4                     0                    0             0             1   \n",
      "\n",
      "   loan_grade_D  loan_grade_E  loan_grade_F  loan_grade_G  risk_cluster  \\\n",
      "0             1             0             0             0             0   \n",
      "1             0             0             0             0             2   \n",
      "2             0             0             0             0             2   \n",
      "3             0             0             0             0             0   \n",
      "4             0             0             0             0             0   \n",
      "\n",
      "   risk_rating  \n",
      "0            0  \n",
      "1            1  \n",
      "2            2  \n",
      "3            1  \n",
      "4            1  \n",
      "\n",
      "[5 rows x 25 columns]\n"
     ]
    },
    {
     "data": {
      "image/png": "[encoded data removed]",
      "text/plain": [
       "<Figure size 432x288 with 2 Axes>"
      ]
     },
     "metadata": {},
     "output_type": "display_data"
    }
   ],
   "source": [
    "# Reduce dimensions for visualization\n",
    "from sklearn.decomposition import PCA\n",
    "print(cluster_data.head())\n",
    "pca = PCA(n_components=2)\n",
    "X_reduced = pca.fit_transform(X)\n",
    "\n",
    "plt.scatter(X_reduced[:, 0], X_reduced[:, 1], c=data['risk_rating'], cmap='viridis')\n",
    "plt.title('K-Means Clusters with Risk Rating')\n",
    "plt.xlabel('PCA Component 1')\n",
    "plt.ylabel('PCA Component 2')\n",
    "plt.colorbar()\n",
    "plt.show()"
   ]
  },
  {
   "cell_type": "code",
   "execution_count": 26,
   "id": "fc6a77ed",
   "metadata": {},
   "outputs": [],
   "source": [
    "# Use SMOTE for oversampling\n",
    "smote = SMOTE(random_state=42)\n",
    "X_resampled, y_resampled = smote.fit_resample(X, y)\n",
    "\n",
    "X_train, X_test, y_train, y_test = train_test_split(X_resampled, y_resampled, test_size=0.3, random_state=42)"
   ]
  },
  {
   "cell_type": "code",
   "execution_count": 27,
   "id": "d376f39e",
   "metadata": {},
   "outputs": [
    {
     "name": "stdout",
     "output_type": "stream",
     "text": [
      "Best Parameters: {'colsample_bytree': 1, 'gamma': 0, 'learning_rate': 0.2, 'max_depth': 7, 'n_estimators': 200, 'subsample': 1}\n",
      "Best Score: 0.9491614221231581\n"
     ]
    }
   ],
   "source": [
    "from sklearn.model_selection import GridSearchCV\n",
    "from xgboost import XGBClassifier\n",
    "\n",
    "param_grid = {\n",
    "    'n_estimators': [50, 100, 200],\n",
    "    'learning_rate': [0.01, 0.1, 0.2], \n",
    "    'max_depth': [3, 5, 7],\n",
    "    'subsample': [0.8, 1],\n",
    "    'colsample_bytree': [0.8, 1],\n",
    "    'gamma': [0, 0.1, 0.2]\n",
    "}\n",
    "\n",
    "xgb = XGBClassifier(random_state=42, use_label_encoder=False, eval_metric='logloss')\n",
    "grid_search = GridSearchCV(xgb, param_grid, cv=5, scoring='accuracy')\n",
    "grid_search.fit(X_train, y_train)\n",
    "\n",
    "print(\"Best Parameters:\", grid_search.best_params_)\n",
    "print(\"Best Score:\", grid_search.best_score_)"
   ]
  },
  {
   "cell_type": "code",
   "execution_count": 29,
   "id": "138afa72",
   "metadata": {},
   "outputs": [
    {
     "name": "stdout",
     "output_type": "stream",
     "text": [
      "XGBoost - Classification Report\n",
      "              precision    recall  f1-score   support\n",
      "\n",
      "           0       0.93      0.98      0.95      7659\n",
      "           1       0.98      0.92      0.95      7625\n",
      "\n",
      "    accuracy                           0.95     15284\n",
      "   macro avg       0.95      0.95      0.95     15284\n",
      "weighted avg       0.95      0.95      0.95     15284\n",
      "\n",
      "XGBoost AUC-ROC: 0.9864206387428056\n"
     ]
    }
   ],
   "source": [
    "xgb_model_new = XGBClassifier(random_state=42, n_estimators=200, learning_rate=0.2,\n",
    "                        max_depth=7, subsample=1, colsample_bytree=0.8,gamma=0 )\n",
    "xgb_model_new.fit(X_train, y_train)\n",
    "y_pred_xgb_new = xgb_model_new.predict(X_test)\n",
    "print(\"XGBoost - Classification Report\")\n",
    "print(classification_report(y_test, y_pred_xgb_new))\n",
    "print(\"XGBoost AUC-ROC:\", roc_auc_score(y_test, xgb_model_new.predict_proba(X_test)[:, 1]))"
   ]
  },
  {
   "cell_type": "code",
   "execution_count": 30,
   "id": "baf1171f",
   "metadata": {},
   "outputs": [
    {
     "name": "stdout",
     "output_type": "stream",
     "text": [
      "Logistic Regression - Classification Report\n",
      "              precision    recall  f1-score   support\n",
      "\n",
      "           0       0.80      0.83      0.81      7659\n",
      "           1       0.82      0.80      0.81      7625\n",
      "\n",
      "    accuracy                           0.81     15284\n",
      "   macro avg       0.81      0.81      0.81     15284\n",
      "weighted avg       0.81      0.81      0.81     15284\n",
      "\n",
      "Logistic Regression AUC-ROC: 0.8901371449853275\n"
     ]
    }
   ],
   "source": [
    "# A. Logistic Regression (Baseline)\n",
    "\n",
    "\n",
    "log_model_new = LogisticRegression(max_iter=1000)\n",
    "log_model_new.fit(X_train, y_train)\n",
    "y_pred_log_new = log_model_new.predict(X_test)\n",
    "print(\"Logistic Regression - Classification Report\")\n",
    "print(classification_report(y_test, y_pred_log_new))\n",
    "print(\"Logistic Regression AUC-ROC:\", roc_auc_score(y_test, log_model_new.predict_proba(X_test)[:, 1]))"
   ]
  },
  {
   "cell_type": "code",
   "execution_count": 31,
   "id": "183f399a",
   "metadata": {},
   "outputs": [
    {
     "name": "stdout",
     "output_type": "stream",
     "text": [
      "Support Vector Machine - Classification Report\n",
      "              precision    recall  f1-score   support\n",
      "\n",
      "           0       0.83      0.86      0.85      7659\n",
      "           1       0.85      0.83      0.84      7625\n",
      "\n",
      "    accuracy                           0.84     15284\n",
      "   macro avg       0.84      0.84      0.84     15284\n",
      "weighted avg       0.84      0.84      0.84     15284\n",
      "\n",
      "Support Vector Machine: 0.9174807651557473\n"
     ]
    }
   ],
   "source": [
    "# B. Support Vector Machine\n",
    "svm_model_new = SVC(random_state=42, probability=True)\n",
    "svm_model_new.fit(X_train, y_train)\n",
    "y_pred_svm_new = svm_model_new.predict(X_test)\n",
    "print(\"Support Vector Machine - Classification Report\")\n",
    "print(classification_report(y_test, y_pred_svm_new))\n",
    "print(\"Support Vector Machine:\", roc_auc_score(y_test, svm_model_new.predict_proba(X_test)[:, 1]))"
   ]
  },
  {
   "cell_type": "code",
   "execution_count": 32,
   "id": "810f0bcb",
   "metadata": {},
   "outputs": [
    {
     "name": "stdout",
     "output_type": "stream",
     "text": [
      "Random Forest - Classification Report\n",
      "              precision    recall  f1-score   support\n",
      "\n",
      "           0       0.91      0.96      0.94      7659\n",
      "           1       0.96      0.90      0.93      7625\n",
      "\n",
      "    accuracy                           0.93     15284\n",
      "   macro avg       0.94      0.93      0.93     15284\n",
      "weighted avg       0.94      0.93      0.93     15284\n",
      "\n",
      "Random Forest AUC-ROC: 0.9830497582400647\n"
     ]
    }
   ],
   "source": [
    "# B. Random Forest\n",
    "rf_model_new = RandomForestClassifier(random_state=42)\n",
    "rf_model_new.fit(X_train, y_train)\n",
    "y_pred_rf_new = rf_model_new.predict(X_test)\n",
    "print(\"Random Forest - Classification Report\")\n",
    "print(classification_report(y_test, y_pred_rf_new))\n",
    "print(\"Random Forest AUC-ROC:\", roc_auc_score(y_test, rf_model_new.predict_proba(X_test)[:, 1]))"
   ]
  },
  {
   "cell_type": "code",
   "execution_count": null,
   "id": "911dad0a",
   "metadata": {},
   "outputs": [],
   "source": []
  }
 ],
 "metadata": {
  "kernelspec": {
   "display_name": "Python 3 (ipykernel)",
   "language": "python",
   "name": "python3"
  },
  "language_info": {
   "codemirror_mode": {
    "name": "ipython",
    "version": 3
   },
   "file_extension": ".py",
   "mimetype": "text/x-python",
   "name": "python",
   "nbconvert_exporter": "python",
   "pygments_lexer": "ipython3",
   "version": "3.9.7"
  }
 },
 "nbformat": 4,
 "nbformat_minor": 5
}
